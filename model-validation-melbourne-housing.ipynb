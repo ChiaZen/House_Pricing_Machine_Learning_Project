{
 "cells": [
  {
   "cell_type": "markdown",
   "id": "2bb7ad48",
   "metadata": {
    "papermill": {
     "duration": 0.005525,
     "end_time": "2023-01-24T14:28:38.453136",
     "exception": false,
     "start_time": "2023-01-24T14:28:38.447611",
     "status": "completed"
    },
    "tags": []
   },
   "source": [
    "**This notebook is an exercise in the [Introduction to Machine Learning](https://www.kaggle.com/learn/intro-to-machine-learning) course.  You can reference the tutorial at [this link](https://www.kaggle.com/dansbecker/model-validation).**\n",
    "\n",
    "---\n"
   ]
  },
  {
   "cell_type": "markdown",
   "id": "087e87a0",
   "metadata": {
    "papermill": {
     "duration": 0.004026,
     "end_time": "2023-01-24T14:28:38.461759",
     "exception": false,
     "start_time": "2023-01-24T14:28:38.457733",
     "status": "completed"
    },
    "tags": []
   },
   "source": [
    "## Recap\n",
    "You've built a model. In this exercise you will test how good your model is.\n",
    "\n",
    "Run the cell below to set up your coding environment where the previous exercise left off."
   ]
  },
  {
   "cell_type": "code",
   "execution_count": 1,
   "id": "38667389",
   "metadata": {
    "execution": {
     "iopub.execute_input": "2023-01-24T14:28:38.473235Z",
     "iopub.status.busy": "2023-01-24T14:28:38.472305Z",
     "iopub.status.idle": "2023-01-24T14:28:39.857127Z",
     "shell.execute_reply": "2023-01-24T14:28:39.855559Z"
    },
    "papermill": {
     "duration": 1.394421,
     "end_time": "2023-01-24T14:28:39.860376",
     "exception": false,
     "start_time": "2023-01-24T14:28:38.465955",
     "status": "completed"
    },
    "tags": []
   },
   "outputs": [
    {
     "name": "stdout",
     "output_type": "stream",
     "text": [
      "First in-sample predictions: [208500. 181500. 223500. 140000. 250000.]\n",
      "Actual target values for those homes: [208500, 181500, 223500, 140000, 250000]\n",
      "Setup Complete\n"
     ]
    }
   ],
   "source": [
    "# Code you have previously used to load data\n",
    "import pandas as pd\n",
    "from sklearn.tree import DecisionTreeRegressor\n",
    "\n",
    "# Path of the file to read\n",
    "iowa_file_path = '../input/home-data-for-ml-course/train.csv'\n",
    "\n",
    "home_data = pd.read_csv(iowa_file_path)\n",
    "y = home_data.SalePrice\n",
    "feature_columns = ['LotArea', 'YearBuilt', '1stFlrSF', '2ndFlrSF', 'FullBath', 'BedroomAbvGr', 'TotRmsAbvGrd']\n",
    "X = home_data[feature_columns]\n",
    "\n",
    "# Specify Model\n",
    "iowa_model = DecisionTreeRegressor()\n",
    "# Fit Model\n",
    "iowa_model.fit(X, y)\n",
    "\n",
    "print(\"First in-sample predictions:\", iowa_model.predict(X.head()))\n",
    "print(\"Actual target values for those homes:\", y.head().tolist())\n",
    "\n",
    "# Set up code checking\n",
    "from learntools.core import binder\n",
    "binder.bind(globals())\n",
    "from learntools.machine_learning.ex4 import *\n",
    "print(\"Setup Complete\")"
   ]
  },
  {
   "cell_type": "markdown",
   "id": "7b1c904b",
   "metadata": {
    "papermill": {
     "duration": 0.004588,
     "end_time": "2023-01-24T14:28:39.872361",
     "exception": false,
     "start_time": "2023-01-24T14:28:39.867773",
     "status": "completed"
    },
    "tags": []
   },
   "source": [
    "# Exercises\n",
    "\n",
    "## Step 1: Split Your Data\n",
    "Use the `train_test_split` function to split up your data.\n",
    "\n",
    "Give it the argument `random_state=1` so the `check` functions know what to expect when verifying your code.\n",
    "\n",
    "Recall, your features are loaded in the DataFrame **X** and your target is loaded in **y**.\n"
   ]
  },
  {
   "cell_type": "code",
   "execution_count": 2,
   "id": "7751d8ef",
   "metadata": {
    "execution": {
     "iopub.execute_input": "2023-01-24T14:28:39.884208Z",
     "iopub.status.busy": "2023-01-24T14:28:39.883347Z",
     "iopub.status.idle": "2023-01-24T14:28:39.901266Z",
     "shell.execute_reply": "2023-01-24T14:28:39.899954Z"
    },
    "papermill": {
     "duration": 0.02655,
     "end_time": "2023-01-24T14:28:39.903764",
     "exception": false,
     "start_time": "2023-01-24T14:28:39.877214",
     "status": "completed"
    },
    "tags": []
   },
   "outputs": [
    {
     "data": {
      "application/javascript": [
       "parent.postMessage({\"jupyterEvent\": \"custom.exercise_interaction\", \"data\": {\"outcomeType\": 1, \"valueTowardsCompletion\": 0.25, \"interactionType\": 1, \"questionType\": 2, \"questionId\": \"1_SplitData\", \"learnToolsVersion\": \"0.3.4\", \"failureMessage\": \"\", \"exceptionClass\": \"\", \"trace\": \"\"}}, \"*\")"
      ],
      "text/plain": [
       "<IPython.core.display.Javascript object>"
      ]
     },
     "metadata": {},
     "output_type": "display_data"
    },
    {
     "data": {
      "text/markdown": [
       "<span style=\"color:#33cc33\">Correct</span>"
      ],
      "text/plain": [
       "Correct"
      ]
     },
     "metadata": {},
     "output_type": "display_data"
    }
   ],
   "source": [
    "# Import the train_test_split function and uncomment\n",
    "from sklearn.model_selection import train_test_split\n",
    "\n",
    "# fill in and uncomment\n",
    "train_X, val_X, train_y, val_y = train_test_split(X ,y ,random_state = 1)\n",
    "\n",
    "# Check your answer\n",
    "step_1.check()"
   ]
  },
  {
   "cell_type": "code",
   "execution_count": 3,
   "id": "999fae7e",
   "metadata": {
    "execution": {
     "iopub.execute_input": "2023-01-24T14:28:39.915822Z",
     "iopub.status.busy": "2023-01-24T14:28:39.914799Z",
     "iopub.status.idle": "2023-01-24T14:28:39.920167Z",
     "shell.execute_reply": "2023-01-24T14:28:39.918887Z"
    },
    "papermill": {
     "duration": 0.014098,
     "end_time": "2023-01-24T14:28:39.922830",
     "exception": false,
     "start_time": "2023-01-24T14:28:39.908732",
     "status": "completed"
    },
    "tags": []
   },
   "outputs": [],
   "source": [
    "# The lines below will show you a hint or the solution.\n",
    "# step_1.hint() \n",
    "#step_1.solution()\n"
   ]
  },
  {
   "cell_type": "markdown",
   "id": "01a749e0",
   "metadata": {
    "papermill": {
     "duration": 0.004971,
     "end_time": "2023-01-24T14:28:39.932914",
     "exception": false,
     "start_time": "2023-01-24T14:28:39.927943",
     "status": "completed"
    },
    "tags": []
   },
   "source": [
    "## Step 2: Specify and Fit the Model\n",
    "\n",
    "Create a `DecisionTreeRegressor` model and fit it to the relevant data.\n",
    "Set `random_state` to 1 again when creating the model."
   ]
  },
  {
   "cell_type": "code",
   "execution_count": 4,
   "id": "722b67f0",
   "metadata": {
    "execution": {
     "iopub.execute_input": "2023-01-24T14:28:39.945858Z",
     "iopub.status.busy": "2023-01-24T14:28:39.945417Z",
     "iopub.status.idle": "2023-01-24T14:28:39.974464Z",
     "shell.execute_reply": "2023-01-24T14:28:39.972878Z"
    },
    "papermill": {
     "duration": 0.038964,
     "end_time": "2023-01-24T14:28:39.976983",
     "exception": false,
     "start_time": "2023-01-24T14:28:39.938019",
     "status": "completed"
    },
    "tags": []
   },
   "outputs": [
    {
     "name": "stdout",
     "output_type": "stream",
     "text": [
      "[186500. 184000. 130000.  92000. 164500. 220000. 335000. 144152. 215000.\n",
      " 262000.]\n",
      "[186500. 184000. 130000.  92000. 164500. 220000. 335000. 144152. 215000.\n",
      " 262000.]\n"
     ]
    },
    {
     "data": {
      "application/javascript": [
       "parent.postMessage({\"jupyterEvent\": \"custom.exercise_interaction\", \"data\": {\"outcomeType\": 1, \"valueTowardsCompletion\": 0.25, \"interactionType\": 1, \"questionType\": 2, \"questionId\": \"2_FitModelWithTrain\", \"learnToolsVersion\": \"0.3.4\", \"failureMessage\": \"\", \"exceptionClass\": \"\", \"trace\": \"\"}}, \"*\")"
      ],
      "text/plain": [
       "<IPython.core.display.Javascript object>"
      ]
     },
     "metadata": {},
     "output_type": "display_data"
    },
    {
     "data": {
      "text/markdown": [
       "<span style=\"color:#33cc33\">Correct</span>"
      ],
      "text/plain": [
       "Correct"
      ]
     },
     "metadata": {},
     "output_type": "display_data"
    }
   ],
   "source": [
    "# You imported DecisionTreeRegressor in your last exercise\n",
    "# and that code has been copied to the setup code above. So, no need to\n",
    "# import it again\n",
    "# Specify the model\n",
    "iowa_model = DecisionTreeRegressor(random_state=1)\n",
    "\n",
    "# Fit iowa_model with the training data.\n",
    "iowa_model.fit(train_X,train_y)\n",
    "\n",
    "# Check your answer\n",
    "step_2.check()"
   ]
  },
  {
   "cell_type": "code",
   "execution_count": 5,
   "id": "4e50dfda",
   "metadata": {
    "execution": {
     "iopub.execute_input": "2023-01-24T14:28:39.990536Z",
     "iopub.status.busy": "2023-01-24T14:28:39.990131Z",
     "iopub.status.idle": "2023-01-24T14:28:39.995119Z",
     "shell.execute_reply": "2023-01-24T14:28:39.993820Z"
    },
    "papermill": {
     "duration": 0.01549,
     "end_time": "2023-01-24T14:28:39.998105",
     "exception": false,
     "start_time": "2023-01-24T14:28:39.982615",
     "status": "completed"
    },
    "tags": []
   },
   "outputs": [],
   "source": [
    "# step_2.hint()\n",
    "# step_2.solution()"
   ]
  },
  {
   "cell_type": "markdown",
   "id": "a9d7d0ff",
   "metadata": {
    "papermill": {
     "duration": 0.005432,
     "end_time": "2023-01-24T14:28:40.009854",
     "exception": false,
     "start_time": "2023-01-24T14:28:40.004422",
     "status": "completed"
    },
    "tags": []
   },
   "source": [
    "## Step 3: Make Predictions with Validation data\n"
   ]
  },
  {
   "cell_type": "code",
   "execution_count": 6,
   "id": "b52bcc83",
   "metadata": {
    "execution": {
     "iopub.execute_input": "2023-01-24T14:28:40.023864Z",
     "iopub.status.busy": "2023-01-24T14:28:40.022729Z",
     "iopub.status.idle": "2023-01-24T14:28:40.037892Z",
     "shell.execute_reply": "2023-01-24T14:28:40.036546Z"
    },
    "papermill": {
     "duration": 0.025,
     "end_time": "2023-01-24T14:28:40.040442",
     "exception": false,
     "start_time": "2023-01-24T14:28:40.015442",
     "status": "completed"
    },
    "tags": []
   },
   "outputs": [
    {
     "data": {
      "application/javascript": [
       "parent.postMessage({\"jupyterEvent\": \"custom.exercise_interaction\", \"data\": {\"outcomeType\": 1, \"valueTowardsCompletion\": 0.25, \"interactionType\": 1, \"questionType\": 2, \"questionId\": \"3_ValPreds\", \"learnToolsVersion\": \"0.3.4\", \"failureMessage\": \"\", \"exceptionClass\": \"\", \"trace\": \"\"}}, \"*\")"
      ],
      "text/plain": [
       "<IPython.core.display.Javascript object>"
      ]
     },
     "metadata": {},
     "output_type": "display_data"
    },
    {
     "data": {
      "text/markdown": [
       "<span style=\"color:#33cc33\">Correct</span>"
      ],
      "text/plain": [
       "Correct"
      ]
     },
     "metadata": {},
     "output_type": "display_data"
    }
   ],
   "source": [
    "# Predict with all validation observations\n",
    "val_predictions = iowa_model.predict(val_X)\n",
    "\n",
    "# Check your answer\n",
    "step_3.check()"
   ]
  },
  {
   "cell_type": "code",
   "execution_count": 7,
   "id": "0b3d8a29",
   "metadata": {
    "execution": {
     "iopub.execute_input": "2023-01-24T14:28:40.053324Z",
     "iopub.status.busy": "2023-01-24T14:28:40.052951Z",
     "iopub.status.idle": "2023-01-24T14:28:40.058366Z",
     "shell.execute_reply": "2023-01-24T14:28:40.057101Z"
    },
    "papermill": {
     "duration": 0.014493,
     "end_time": "2023-01-24T14:28:40.060660",
     "exception": false,
     "start_time": "2023-01-24T14:28:40.046167",
     "status": "completed"
    },
    "tags": []
   },
   "outputs": [],
   "source": [
    "# step_3.hint()\n",
    "#step_3.solution()"
   ]
  },
  {
   "cell_type": "markdown",
   "id": "9448ade4",
   "metadata": {
    "papermill": {
     "duration": 0.004981,
     "end_time": "2023-01-24T14:28:40.070926",
     "exception": false,
     "start_time": "2023-01-24T14:28:40.065945",
     "status": "completed"
    },
    "tags": []
   },
   "source": [
    "Inspect your predictions and actual values from validation data."
   ]
  },
  {
   "cell_type": "code",
   "execution_count": 8,
   "id": "15aeb033",
   "metadata": {
    "execution": {
     "iopub.execute_input": "2023-01-24T14:28:40.084018Z",
     "iopub.status.busy": "2023-01-24T14:28:40.083544Z",
     "iopub.status.idle": "2023-01-24T14:28:40.093176Z",
     "shell.execute_reply": "2023-01-24T14:28:40.091799Z"
    },
    "papermill": {
     "duration": 0.019279,
     "end_time": "2023-01-24T14:28:40.095501",
     "exception": false,
     "start_time": "2023-01-24T14:28:40.076222",
     "status": "completed"
    },
    "tags": []
   },
   "outputs": [
    {
     "name": "stdout",
     "output_type": "stream",
     "text": [
      "[186500. 184000. 130000.  92000. 164500. 220000. 335000. 144152. 215000.\n",
      " 262000. 180000. 121000. 175900. 210000. 248900. 131000. 100000. 149350.\n",
      " 235000. 156000. 149900. 265979. 193500. 377500. 100000. 162900. 145000.\n",
      " 180000. 582933. 146000. 140000.  91500. 112500. 113000. 145000. 312500.\n",
      " 110000. 132000. 305000. 128000. 162900. 115000. 110000. 124000. 215200.\n",
      " 180000.  79000. 192000. 282922. 235000. 132000. 325000.  80000. 237000.\n",
      " 208300. 100000. 120500. 162000. 153000. 187000. 185750. 335000. 129000.\n",
      " 124900. 185750. 133700. 127000. 230000. 146800. 157900. 136000. 153575.\n",
      " 335000. 177500. 143000. 202500. 168500. 105000. 305900. 192000. 190000.\n",
      " 140200. 134900. 128950. 213000. 108959. 149500. 190000. 175900. 160000.\n",
      " 250580. 157000. 120500. 147500. 118000. 117000. 110000. 130000. 148500.\n",
      " 148000. 190000. 130500. 127000. 120500. 135000. 168000. 176432. 128000.\n",
      " 147000. 260000. 132000. 129500. 171000. 181134. 227875. 189000. 282922.\n",
      "  94750. 185000. 194000. 159000. 279500. 290000. 135000. 299800. 165000.\n",
      " 394432. 135750. 155000. 212000. 310000. 134800.  84000. 122900.  80000.\n",
      " 191000. 755000. 147000. 248000. 106500. 145000. 359100. 145000. 192500.\n",
      " 149000. 252000. 109000. 215000. 220000. 138500. 185000. 185000. 120500.\n",
      " 181000. 173000. 335000.  67000. 149350.  67000. 156000. 119000. 110500.\n",
      " 184000. 147000. 156000. 171000. 177000. 159000. 125000. 105000. 284000.\n",
      " 167500. 200000. 312500. 213000. 135960. 205000. 237000. 107000. 163000.\n",
      " 132500. 155835. 165500. 138500. 257000. 160000. 394617. 281213. 161000.\n",
      " 127500.  88000. 139000.  89500. 132500. 134800. 335000. 248900. 155000.\n",
      " 147000.  86000. 185000. 200000. 180500. 215200. 319900. 105000. 194000.\n",
      " 340000. 256000. 280000. 186500. 105500. 155000. 133500. 255500. 253000.\n",
      " 130000.  92900. 256000. 100000. 755000. 138500. 168500. 112000. 127000.\n",
      " 109008. 197000. 245500. 171900. 162000. 128000. 173000. 132000. 118000.\n",
      " 235128. 118964. 260000. 116000. 185000. 315750. 236500. 140000. 151500.\n",
      " 184000.  84000. 130000. 154000. 205000. 110000. 151500. 123000. 129500.\n",
      " 173900. 181500. 165500. 106500. 184900.  84500. 377500. 118500. 180000.\n",
      " 190000. 208500. 181000.  98000. 157000. 151500.  84000. 139000. 100000.\n",
      " 161750. 165600. 116000. 118500. 187000. 147000. 112000. 132000. 230000.\n",
      " 128000. 147000. 125000. 145000. 151000. 284000. 221000. 140200. 129000.\n",
      " 290000. 105000.  96500. 310000. 140000. 132000. 203000. 221000. 215200.\n",
      " 214000. 139000.  91500. 148000. 155000. 115000. 180000. 165500. 223000.\n",
      " 139000. 179900. 150000. 185000. 163000. 176000. 127000. 227000. 146000.\n",
      "  99900. 275000. 180500. 180000. 157000. 186500. 179900. 137500. 219500.\n",
      " 155000. 345000. 197000. 205000. 159000. 159434. 156000. 196000. 252678.\n",
      " 255500. 213000. 150900. 143750. 139000. 260000. 189000. 213250. 207500.\n",
      "  80000. 221000. 109500. 155000. 165000. 149350. 204900. 105900. 155000.\n",
      " 176000. 395000. 149700. 147000. 143900. 226700. 176000. 116000. 325300.\n",
      " 133750. 188500. 148500. 284000. 201800.]\n"
     ]
    }
   ],
   "source": [
    "# print the top few validation predictions\n",
    "print(val_predictions)"
   ]
  },
  {
   "cell_type": "markdown",
   "id": "58a10cf1",
   "metadata": {
    "papermill": {
     "duration": 0.005262,
     "end_time": "2023-01-24T14:28:40.106302",
     "exception": false,
     "start_time": "2023-01-24T14:28:40.101040",
     "status": "completed"
    },
    "tags": []
   },
   "source": [
    "What do you notice that is different from what you saw with in-sample predictions (which are printed after the top code cell in this page).\n",
    "\n",
    "Do you remember why validation predictions differ from in-sample (or training) predictions? This is an important idea from the last lesson.\n",
    "\n",
    "## Step 4: Calculate the Mean Absolute Error in Validation Data\n"
   ]
  },
  {
   "cell_type": "code",
   "execution_count": 9,
   "id": "ab97b517",
   "metadata": {
    "execution": {
     "iopub.execute_input": "2023-01-24T14:28:40.119440Z",
     "iopub.status.busy": "2023-01-24T14:28:40.119014Z",
     "iopub.status.idle": "2023-01-24T14:28:40.131569Z",
     "shell.execute_reply": "2023-01-24T14:28:40.129776Z"
    },
    "papermill": {
     "duration": 0.022516,
     "end_time": "2023-01-24T14:28:40.134282",
     "exception": false,
     "start_time": "2023-01-24T14:28:40.111766",
     "status": "completed"
    },
    "tags": []
   },
   "outputs": [
    {
     "name": "stdout",
     "output_type": "stream",
     "text": [
      "29652.931506849316\n"
     ]
    },
    {
     "data": {
      "application/javascript": [
       "parent.postMessage({\"jupyterEvent\": \"custom.exercise_interaction\", \"data\": {\"outcomeType\": 1, \"valueTowardsCompletion\": 0.25, \"interactionType\": 1, \"questionType\": 1, \"questionId\": \"4_MAE\", \"learnToolsVersion\": \"0.3.4\", \"failureMessage\": \"\", \"exceptionClass\": \"\", \"trace\": \"\"}}, \"*\")"
      ],
      "text/plain": [
       "<IPython.core.display.Javascript object>"
      ]
     },
     "metadata": {},
     "output_type": "display_data"
    },
    {
     "data": {
      "text/markdown": [
       "<span style=\"color:#33cc33\">Correct</span>"
      ],
      "text/plain": [
       "Correct"
      ]
     },
     "metadata": {},
     "output_type": "display_data"
    }
   ],
   "source": [
    "from sklearn.metrics import mean_absolute_error\n",
    "val_mae = mean_absolute_error(val_y, val_predictions)\n",
    "print(val_mae)\n",
    "# Check your answer\n",
    "step_4.check()"
   ]
  },
  {
   "cell_type": "code",
   "execution_count": 10,
   "id": "01ed4496",
   "metadata": {
    "execution": {
     "iopub.execute_input": "2023-01-24T14:28:40.148642Z",
     "iopub.status.busy": "2023-01-24T14:28:40.147692Z",
     "iopub.status.idle": "2023-01-24T14:28:40.152874Z",
     "shell.execute_reply": "2023-01-24T14:28:40.151779Z"
    },
    "papermill": {
     "duration": 0.014711,
     "end_time": "2023-01-24T14:28:40.155120",
     "exception": false,
     "start_time": "2023-01-24T14:28:40.140409",
     "status": "completed"
    },
    "tags": []
   },
   "outputs": [],
   "source": [
    "#step_4.hint()\n",
    "#step_4.solution()"
   ]
  },
  {
   "cell_type": "markdown",
   "id": "3ee0ad91",
   "metadata": {
    "papermill": {
     "duration": 0.005624,
     "end_time": "2023-01-24T14:28:40.166751",
     "exception": false,
     "start_time": "2023-01-24T14:28:40.161127",
     "status": "completed"
    },
    "tags": []
   },
   "source": [
    "Is that MAE good?  There isn't a general rule for what values are good that applies across applications. But you'll see how to use (and improve) this number in the next step.\n",
    "\n",
    "# Keep Going\n",
    "\n",
    "You are ready for **[Underfitting and Overfitting](https://www.kaggle.com/dansbecker/underfitting-and-overfitting).**\n"
   ]
  },
  {
   "cell_type": "markdown",
   "id": "9173931a",
   "metadata": {
    "papermill": {
     "duration": 0.005518,
     "end_time": "2023-01-24T14:28:40.178192",
     "exception": false,
     "start_time": "2023-01-24T14:28:40.172674",
     "status": "completed"
    },
    "tags": []
   },
   "source": [
    "---\n",
    "\n",
    "\n",
    "\n",
    "\n",
    "*Have questions or comments? Visit the [course discussion forum](https://www.kaggle.com/learn/intro-to-machine-learning/discussion) to chat with other learners.*"
   ]
  }
 ],
 "metadata": {
  "kernelspec": {
   "display_name": "Python 3",
   "language": "python",
   "name": "python3"
  },
  "language_info": {
   "codemirror_mode": {
    "name": "ipython",
    "version": 3
   },
   "file_extension": ".py",
   "mimetype": "text/x-python",
   "name": "python",
   "nbconvert_exporter": "python",
   "pygments_lexer": "ipython3",
   "version": "3.7.12"
  },
  "papermill": {
   "default_parameters": {},
   "duration": 11.520309,
   "end_time": "2023-01-24T14:28:41.311722",
   "environment_variables": {},
   "exception": null,
   "input_path": "__notebook__.ipynb",
   "output_path": "__notebook__.ipynb",
   "parameters": {},
   "start_time": "2023-01-24T14:28:29.791413",
   "version": "2.3.4"
  }
 },
 "nbformat": 4,
 "nbformat_minor": 5
}
